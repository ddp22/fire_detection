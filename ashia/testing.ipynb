{
  "cells": [
    {
      "cell_type": "code",
      "execution_count": 1,
      "metadata": {
        "colab": {
          "base_uri": "https://localhost:8080/"
        },
        "id": "FupE6O1CrQzu",
        "outputId": "c7a1d593-5ed5-4f34-882e-70ccd4ad3971"
      },
      "outputs": [
        {
          "output_type": "stream",
          "name": "stdout",
          "text": [
            "Mounted at /content/gdrive\n"
          ]
        }
      ],
      "source": [
        "# You can follow this tutorial for more information - https://www.tutorialspoint.com/google_colab/index.htm\n",
        "# You can also see this video - https://www.youtube.com/watch?v=inN8seMm7UI\n",
        "\n",
        "# Mount your Drive - After doing this step, your Google Drive folders are accessible from Google Colab.\n",
        "from google.colab import drive\n",
        "drive.mount('/content/gdrive')   # COMMENTO DI PROVA"
      ]
    },
    {
      "cell_type": "markdown",
      "metadata": {
        "id": "3tr1jyxY6PlS"
      },
      "source": [
        "#Download and unzip"
      ]
    },
    {
      "cell_type": "markdown",
      "metadata": {
        "id": "Q39ZBqMbgO3R"
      },
      "source": [
        "Rendimao il link scaricabile e (nel secondo box di codice) scarichiamo i video"
      ]
    },
    {
      "cell_type": "code",
      "execution_count": 2,
      "metadata": {
        "id": "BONhSjX4sMAF"
      },
      "outputs": [],
      "source": [
        "import gdown\n",
        "def download_google_file(shader_url, output_name):\n",
        "  id_url = \"https://drive.google.com/uc?id=\" + shader_url.split(\"/\")[5]\n",
        "  gdown.download(id_url, output_name)"
      ]
    },
    {
      "cell_type": "code",
      "execution_count": 3,
      "metadata": {
        "colab": {
          "base_uri": "https://localhost:8080/"
        },
        "id": "8IYEqO-5svPd",
        "outputId": "1e96b455-599e-4f59-f4a6-4dfdbe3dae96"
      },
      "outputs": [
        {
          "output_type": "stream",
          "name": "stderr",
          "text": [
            "Downloading...\n",
            "From: https://drive.google.com/uc?id=1tEz2wVQjPp1MjVHZLa-Z3uyVBnwljgGF\n",
            "To: /content/VIDEOS.zip\n",
            "100%|██████████| 1.52G/1.52G [00:15<00:00, 96.7MB/s]\n"
          ]
        },
        {
          "output_type": "stream",
          "name": "stdout",
          "text": [
            "Archive:  VIDEOS.zip\n",
            "   creating: TRAINING_SET/\n",
            "   creating: TRAINING_SET/1/\n",
            "  inflating: TRAINING_SET/1/Video75_2.mp4  \n",
            "  inflating: TRAINING_SET/1/Video210.mp4  \n",
            "  inflating: TRAINING_SET/1/Video150.mp4  \n",
            "  inflating: TRAINING_SET/1/Video60.mp4  \n",
            "  inflating: TRAINING_SET/1/Video186.mp4  \n",
            "  inflating: TRAINING_SET/1/Video75_1.mp4  \n",
            "  inflating: TRAINING_SET/1/Video75_3.mp4  \n",
            "  inflating: TRAINING_SET/1/Video72.mp4  \n",
            "  inflating: TRAINING_SET/1/Video71.mp4  \n",
            "  inflating: TRAINING_SET/1/Video130.mp4  \n",
            "  inflating: TRAINING_SET/1/Video109.mp4  \n",
            "  inflating: TRAINING_SET/1/Video115.mp4  \n",
            "  inflating: TRAINING_SET/1/Video103.mp4  \n",
            "  inflating: TRAINING_SET/1/Video18.mp4  \n",
            "  inflating: TRAINING_SET/1/Video138.mp4  \n",
            "  inflating: TRAINING_SET/1/Video213.mp4  \n",
            "  inflating: TRAINING_SET/1/Video80.mp4  \n",
            "  inflating: TRAINING_SET/1/Video83.mp4  \n",
            "  inflating: TRAINING_SET/1/Video43.mp4  \n",
            "  inflating: TRAINING_SET/1/Video170.mp4  \n",
            "  inflating: TRAINING_SET/1/Video47.mp4  \n",
            "  inflating: TRAINING_SET/1/Video84.mp4  \n",
            "  inflating: TRAINING_SET/1/Video51.mp4  \n",
            "  inflating: TRAINING_SET/1/Video172.mp4  \n",
            "  inflating: TRAINING_SET/1/Video74.mp4  \n",
            "  inflating: TRAINING_SET/1/Video119.mp4  \n",
            "  inflating: TRAINING_SET/1/Video131.mp4  \n",
            "  inflating: TRAINING_SET/1/Video253.mp4  \n",
            "  inflating: TRAINING_SET/1/Video247.mp4  \n",
            "  inflating: TRAINING_SET/1/Video12.mp4  \n",
            "  inflating: TRAINING_SET/1/Video245.mp4  \n",
            "  inflating: TRAINING_SET/1/Video133.mp4  \n",
            "  inflating: TRAINING_SET/1/Video132.mp4  \n",
            "  inflating: TRAINING_SET/1/Video250.mp4  \n",
            "  inflating: TRAINING_SET/1/Video39.mp4  \n",
            "  inflating: TRAINING_SET/1/Video11.mp4  \n",
            "  inflating: TRAINING_SET/1/Video13.mp4  \n",
            "  inflating: TRAINING_SET/1/Video246.mp4  \n",
            "  inflating: TRAINING_SET/1/Video252.mp4  \n",
            "  inflating: TRAINING_SET/1/Video124.mp4  \n",
            "  inflating: TRAINING_SET/1/Video118.mp4  \n",
            "  inflating: TRAINING_SET/1/Video136.mp4  \n",
            "  inflating: TRAINING_SET/1/Video137.mp4  \n",
            "  inflating: TRAINING_SET/1/Video123.mp4  \n",
            "  inflating: TRAINING_SET/1/Video255.mp4  \n",
            "  inflating: TRAINING_SET/1/Video14.mp4  \n",
            "  inflating: TRAINING_SET/1/Video28.mp4  \n",
            "  inflating: TRAINING_SET/1/Video10.mp4  \n",
            "  inflating: TRAINING_SET/1/Video38.mp4  \n",
            "  inflating: TRAINING_SET/1/Video251.mp4  \n",
            "  inflating: TRAINING_SET/1/Video121.mp4  \n",
            "  inflating: TRAINING_SET/1/Video120.mp4  \n",
            "  inflating: TRAINING_SET/1/Video108.mp4  \n",
            "  inflating: TRAINING_SET/1/Video256.mp4  \n",
            "  inflating: TRAINING_SET/1/Video242.mp4  \n",
            "  inflating: TRAINING_SET/1/Video17.mp4  \n",
            "  inflating: TRAINING_SET/1/Video29.mp4  \n",
            "  inflating: TRAINING_SET/1/Video15.mp4  \n",
            "  inflating: TRAINING_SET/1/Video254.mp4  \n",
            "  inflating: TRAINING_SET/1/Video240.mp4  \n",
            "  inflating: TRAINING_SET/1/Video122.mp4  \n",
            "  inflating: TRAINING_SET/1/Video185.mp4  \n",
            "  inflating: TRAINING_SET/1/Video191.mp4  \n",
            "  inflating: TRAINING_SET/1/Video218.mp4  \n",
            "  inflating: TRAINING_SET/1/Video230.mp4  \n",
            "  inflating: TRAINING_SET/1/Video224.mp4  \n",
            "  inflating: TRAINING_SET/1/Video59.mp4  \n",
            "  inflating: TRAINING_SET/1/Video6.mp4  \n",
            "  inflating: TRAINING_SET/1/Video257.mp4  \n",
            "  inflating: TRAINING_SET/1/Video135.mp4  \n",
            "  inflating: TRAINING_SET/1/Video64.mp4  \n",
            "  inflating: TRAINING_SET/1/Video58.mp4  \n",
            "  inflating: TRAINING_SET/1/Video225.mp4  \n",
            "  inflating: TRAINING_SET/1/Video231.mp4  \n",
            "  inflating: TRAINING_SET/1/Video219.mp4  \n",
            "  inflating: TRAINING_SET/1/Video190.mp4  \n",
            "  inflating: TRAINING_SET/1/Video184.mp4  \n",
            "  inflating: TRAINING_SET/1/Video153.mp4  \n",
            "  inflating: TRAINING_SET/1/Video147.mp4  \n",
            "  inflating: TRAINING_SET/1/Video146.mp4  \n",
            "  inflating: TRAINING_SET/1/Video152.mp4  \n",
            "  inflating: TRAINING_SET/1/Video179.mp4  \n",
            "  inflating: TRAINING_SET/1/Video145.mp4  \n",
            "  inflating: TRAINING_SET/1/Video192.mp4  \n",
            "  inflating: TRAINING_SET/1/Video227.mp4  \n",
            "  inflating: TRAINING_SET/1/Video99.mp4  \n",
            "  inflating: TRAINING_SET/1/Video5.mp4  \n",
            "  inflating: TRAINING_SET/1/Video66.mp4  \n",
            "  inflating: TRAINING_SET/1/Video70.mp4  \n",
            "  inflating: TRAINING_SET/1/Video7.mp4  \n",
            "  inflating: TRAINING_SET/1/Video169.mp4  \n",
            "  inflating: TRAINING_SET/1/Video141.mp4  \n",
            "  inflating: TRAINING_SET/1/Video155.mp4  \n",
            "  inflating: TRAINING_SET/1/Video154.mp4  \n",
            "  inflating: TRAINING_SET/1/Video140.mp4  \n",
            "  inflating: TRAINING_SET/1/Video168.mp4  \n",
            "  inflating: TRAINING_SET/1/Video197.mp4  \n",
            "  inflating: TRAINING_SET/1/Video183.mp4  \n",
            "  inflating: TRAINING_SET/1/Video0.mp4  \n",
            "  inflating: TRAINING_SET/1/Video67.mp4  \n",
            "  inflating: TRAINING_SET/1/Video73.mp4  \n",
            "  inflating: TRAINING_SET/1/Video4.mp4  \n",
            "  inflating: TRAINING_SET/1/Video98.mp4  \n",
            "  inflating: TRAINING_SET/1/Video232.mp4  \n",
            "  inflating: TRAINING_SET/1/Video226.mp4  \n",
            "  inflating: TRAINING_SET/1/Video187.mp4  \n",
            "  inflating: TRAINING_SET/1/Video193.mp4  \n",
            "  inflating: TRAINING_SET/1/Video144.mp4  \n",
            "  inflating: TRAINING_SET/1/Video61.mp4  \n",
            "  inflating: TRAINING_SET/1/Video208.mp4  \n",
            "  inflating: TRAINING_SET/1/Video234.mp4  \n",
            "  inflating: TRAINING_SET/1/Video75_4.mp4  \n",
            "  inflating: TRAINING_SET/1/Video195.mp4  \n",
            "  inflating: TRAINING_SET/1/Video156.mp4  \n",
            "  inflating: TRAINING_SET/1/Video143.mp4  \n",
            "  inflating: TRAINING_SET/1/Video157.mp4  \n",
            "  inflating: TRAINING_SET/1/Video180.mp4  \n",
            "  inflating: TRAINING_SET/1/Video194.mp4  \n",
            "  inflating: TRAINING_SET/1/Video235.mp4  \n",
            "  inflating: TRAINING_SET/1/Video209.mp4  \n",
            "  inflating: TRAINING_SET/1/Video3.mp4  \n",
            "  inflating: TRAINING_SET/1/Video48.mp4  \n",
            "  inflating: TRAINING_SET/1/Video62.mp4  \n",
            "  inflating: TRAINING_SET/1/Video1.mp4  \n",
            "  inflating: TRAINING_SET/1/Video76.mp4  \n",
            "  inflating: TRAINING_SET/1/Video237.mp4  \n",
            "  inflating: TRAINING_SET/1/Video223.mp4  \n",
            "  inflating: TRAINING_SET/1/Video182.mp4  \n",
            "  inflating: TRAINING_SET/1/Video196.mp4  \n",
            "  inflating: TRAINING_SET/1/Video239.mp4  \n",
            "  inflating: TRAINING_SET/1/Video211.mp4  \n",
            "  inflating: TRAINING_SET/1/Video205.mp4  \n",
            "  inflating: TRAINING_SET/1/Video87.mp4  \n",
            "  inflating: TRAINING_SET/1/Video93.mp4  \n",
            "  inflating: TRAINING_SET/1/Video78.mp4  \n",
            "  inflating: TRAINING_SET/1/Video44.mp4  \n",
            "  inflating: TRAINING_SET/1/Video50.mp4  \n",
            "  inflating: TRAINING_SET/1/Video49.mp4  \n",
            "  inflating: TRAINING_SET/1/Video2.mp4  \n",
            "  inflating: TRAINING_SET/1/Video90.mp4  \n",
            "  inflating: TRAINING_SET/1/Video53.mp4  \n",
            "  inflating: TRAINING_SET/1/Video45.mp4  \n",
            "  inflating: TRAINING_SET/1/Video92.mp4  \n",
            "  inflating: TRAINING_SET/1/Video86.mp4  \n",
            "  inflating: TRAINING_SET/1/Video204.mp4  \n",
            "  inflating: TRAINING_SET/1/Video238.mp4  \n",
            "  inflating: TRAINING_SET/1/Video199.mp4  \n",
            "  inflating: TRAINING_SET/1/Video167.mp4  \n",
            "  inflating: TRAINING_SET/1/Video173.mp4  \n",
            "  inflating: TRAINING_SET/1/Video46.mp4  \n",
            "  inflating: TRAINING_SET/1/Video85.mp4  \n",
            "  inflating: TRAINING_SET/1/Video91.mp4  \n",
            "  inflating: TRAINING_SET/1/Video165.mp4  \n",
            "  inflating: TRAINING_SET/1/Video171.mp4  \n",
            "  inflating: TRAINING_SET/1/Video159.mp4  \n",
            "  inflating: TRAINING_SET/1/Video158.mp4  \n",
            "  inflating: TRAINING_SET/1/Video164.mp4  \n",
            "  inflating: TRAINING_SET/1/Video206.mp4  \n",
            "  inflating: TRAINING_SET/1/Video212.mp4  \n",
            "  inflating: TRAINING_SET/1/Video175.mp4  \n",
            "  inflating: TRAINING_SET/1/Video161.mp4  \n",
            "  inflating: TRAINING_SET/1/Video149.mp4  \n",
            "  inflating: TRAINING_SET/1/Video203.mp4  \n",
            "  inflating: TRAINING_SET/1/Video217.mp4  \n",
            "  inflating: TRAINING_SET/1/Video95.mp4  \n",
            "  inflating: TRAINING_SET/1/Video56.mp4  \n",
            "  inflating: TRAINING_SET/1/Video42.mp4  \n",
            "  inflating: TRAINING_SET/1/Video9.mp4  \n",
            "  inflating: TRAINING_SET/1/Video200.mp4  \n",
            "  inflating: TRAINING_SET/1/Video82.mp4  \n",
            "  inflating: TRAINING_SET/1/Video69.mp4  \n",
            "  inflating: TRAINING_SET/1/Video8.mp4  \n",
            "  inflating: TRAINING_SET/1/Video202.mp4  \n",
            "  inflating: TRAINING_SET/1/Video148.mp4  \n",
            "  inflating: TRAINING_SET/1/Video160.mp4  \n",
            "  inflating: TRAINING_SET/1/Video54.mp4  \n",
            "  inflating: TRAINING_SET/1/Video40.mp4  \n",
            "  inflating: TRAINING_SET/1/Video97.mp4  \n",
            "  inflating: TRAINING_SET/1/Video229.mp4  \n",
            "  inflating: TRAINING_SET/1/Video201.mp4  \n",
            "  inflating: TRAINING_SET/1/Video215.mp4  \n",
            "  inflating: TRAINING_SET/1/Video188.mp4  \n",
            "  inflating: TRAINING_SET/1/Video177.mp4  \n",
            "  inflating: TRAINING_SET/1/Video163.mp4  \n",
            "  inflating: TRAINING_SET/1/Video162.mp4  \n",
            "  inflating: TRAINING_SET/1/Video189.mp4  \n",
            "  inflating: TRAINING_SET/1/Video107.mp4  \n",
            "  inflating: TRAINING_SET/1/Video30.mp4  \n",
            "  inflating: TRAINING_SET/1/Video24.mp4  \n",
            "  inflating: TRAINING_SET/1/Video32.mp4  \n",
            "  inflating: TRAINING_SET/1/Video134_1.mp4  \n",
            "  inflating: TRAINING_SET/1/Video105.mp4  \n",
            "  inflating: TRAINING_SET/1/Video139.mp4  \n",
            "  inflating: TRAINING_SET/1/Video110.mp4  \n",
            "  inflating: TRAINING_SET/1/Video27.mp4  \n",
            "  inflating: TRAINING_SET/1/Video33.mp4  \n",
            "  inflating: TRAINING_SET/1/Video68.mp4  \n",
            "  inflating: TRAINING_SET/1/Video102.mp4  \n",
            "  inflating: TRAINING_SET/1/Video260.mp4  \n",
            "  inflating: TRAINING_SET/1/Video248.mp4  \n",
            "  inflating: TRAINING_SET/1/Video35.mp4  \n",
            "  inflating: TRAINING_SET/1/Video21.mp4  \n",
            "  inflating: TRAINING_SET/1/Video25.mp4  \n",
            "  inflating: TRAINING_SET/1/Video31.mp4  \n",
            "  inflating: TRAINING_SET/1/Video19.mp4  \n",
            "  inflating: TRAINING_SET/1/Video258.mp4  \n",
            "  inflating: TRAINING_SET/1/Video113.mp4  \n",
            "  inflating: TRAINING_SET/1/Video128.mp4  \n",
            "  inflating: TRAINING_SET/1/Video114.mp4  \n",
            "  inflating: TRAINING_SET/1/Video100.mp4  \n",
            "  inflating: TRAINING_SET/1/Video101.mp4  \n",
            "  inflating: TRAINING_SET/1/Video129.mp4  \n",
            "  inflating: TRAINING_SET/1/Video22.mp4  \n",
            "  inflating: TRAINING_SET/1/Video36.mp4  \n",
            "  inflating: TRAINING_SET/1/Video20.mp4  \n",
            "  inflating: TRAINING_SET/1/Video261.mp4  \n",
            "  inflating: TRAINING_SET/1/Video116.mp4  \n",
            "  inflating: TRAINING_SET/1/Video37.mp4  \n",
            "  inflating: TRAINING_SET/1/Video23.mp4  \n",
            "   creating: TRAINING_SET/0/\n",
            "  inflating: TRAINING_SET/0/Video12.mp4  \n",
            "  inflating: TRAINING_SET/0/Video13.mp4  \n",
            "  inflating: TRAINING_SET/0/Video65.mp4  \n",
            "  inflating: TRAINING_SET/0/Video6.mp4  \n",
            "  inflating: TRAINING_SET/0/Video71.mp4  \n",
            "  inflating: TRAINING_SET/0/Video17.mp4  \n",
            "  inflating: TRAINING_SET/0/Video35.mp4  \n",
            "  inflating: TRAINING_SET/0/Video101.mp4  \n",
            "  inflating: TRAINING_SET/0/Video29.mp4  \n",
            "  inflating: TRAINING_SET/0/Video14.mp4  \n",
            "  inflating: TRAINING_SET/0/Video30.mp4  \n",
            "  inflating: TRAINING_SET/0/Video10.mp4  \n",
            "  inflating: TRAINING_SET/0/Video83.mp4  \n",
            "  inflating: TRAINING_SET/0/Video38.mp4  \n",
            "  inflating: TRAINING_SET/0/Video64.mp4  \n",
            "  inflating: TRAINING_SET/0/Video63.mp4  \n",
            "  inflating: TRAINING_SET/0/Video75.mp4  \n",
            "  inflating: TRAINING_SET/0/Video56.mp4  \n",
            "  inflating: TRAINING_SET/0/Video58.mp4  \n",
            "  inflating: TRAINING_SET/0/Video49.mp4  \n",
            "  inflating: TRAINING_SET/0/Video39.mp4  \n",
            "  inflating: TRAINING_SET/0/Video11.mp4  \n",
            "  inflating: TRAINING_SET/0/Video5.mp4  \n",
            "  inflating: TRAINING_SET/0/Video59.mp4  \n",
            "  inflating: TRAINING_SET/0/Video15.mp4  \n",
            "  inflating: TRAINING_SET/0/Video0.mp4  \n",
            "  inflating: TRAINING_SET/0/Video67.mp4  \n",
            "  inflating: TRAINING_SET/0/Video73.mp4  \n",
            "  inflating: TRAINING_SET/0/Video4.mp4  \n",
            "  inflating: TRAINING_SET/0/Video98.mp4  \n",
            "  inflating: TRAINING_SET/0/Video99.mp4  \n",
            "  inflating: TRAINING_SET/0/Video72.mp4  \n",
            "  inflating: TRAINING_SET/0/Video66.mp4  \n",
            "  inflating: TRAINING_SET/0/Video70.mp4  \n",
            "  inflating: TRAINING_SET/0/Video7.mp4  \n",
            "  inflating: TRAINING_SET/0/Video61.mp4  \n",
            "  inflating: TRAINING_SET/0/Video60.mp4  \n",
            "  inflating: TRAINING_SET/0/Video74.mp4  \n",
            "  inflating: TRAINING_SET/0/Video3.mp4  \n",
            "  inflating: TRAINING_SET/0/Video62.mp4  \n",
            "  inflating: TRAINING_SET/0/Video1.mp4  \n",
            "  inflating: TRAINING_SET/0/Video76.mp4  \n",
            "  inflating: TRAINING_SET/0/Video89.mp4  \n",
            "  inflating: TRAINING_SET/0/Video88.mp4  \n",
            "  inflating: TRAINING_SET/0/Video77.mp4  \n",
            "  inflating: TRAINING_SET/0/Video84.mp4  \n",
            "  inflating: TRAINING_SET/0/Video53.mp4  \n",
            "  inflating: TRAINING_SET/0/Video47.mp4  \n",
            "  inflating: TRAINING_SET/0/Video51.mp4  \n",
            "  inflating: TRAINING_SET/0/Video45.mp4  \n",
            "  inflating: TRAINING_SET/0/Video79.mp4  \n",
            "  inflating: TRAINING_SET/0/Video92.mp4  \n",
            "  inflating: TRAINING_SET/0/Video93.mp4  \n",
            "  inflating: TRAINING_SET/0/Video44.mp4  \n",
            "  inflating: TRAINING_SET/0/Video50.mp4  \n",
            "  inflating: TRAINING_SET/0/Video2.mp4  \n",
            "  inflating: TRAINING_SET/0/Video80.mp4  \n",
            "  inflating: TRAINING_SET/0/Video94.mp4  \n",
            "  inflating: TRAINING_SET/0/Video95.mp4  \n",
            "  inflating: TRAINING_SET/0/Video81.mp4  \n",
            "  inflating: TRAINING_SET/0/Video42.mp4  \n",
            "  inflating: TRAINING_SET/0/Video9.mp4  \n",
            "  inflating: TRAINING_SET/0/Video46.mp4  \n",
            "  inflating: TRAINING_SET/0/Video52.mp4  \n",
            "  inflating: TRAINING_SET/0/Video91.mp4  \n",
            "  inflating: TRAINING_SET/0/Video90.mp4  \n",
            "  inflating: TRAINING_SET/0/Video27.mp4  \n",
            "  inflating: TRAINING_SET/0/Video68.mp4  \n",
            "  inflating: TRAINING_SET/0/Video54.mp4  \n",
            "  inflating: TRAINING_SET/0/Video40.mp4  \n",
            "  inflating: TRAINING_SET/0/Video97.mp4  \n",
            "  inflating: TRAINING_SET/0/Video96.mp4  \n",
            "  inflating: TRAINING_SET/0/Video41.mp4  \n",
            "  inflating: TRAINING_SET/0/Video55.mp4  \n",
            "  inflating: TRAINING_SET/0/Video69.mp4  \n",
            "  inflating: TRAINING_SET/0/Video8.mp4  \n",
            "  inflating: TRAINING_SET/0/Video57.mp4  \n",
            "  inflating: TRAINING_SET/0/Video34.mp4  \n",
            "  inflating: TRAINING_SET/0/Video103.mp4  \n",
            "  inflating: TRAINING_SET/0/Video102.mp4  \n",
            "  inflating: TRAINING_SET/0/Video21.mp4  \n",
            "  inflating: TRAINING_SET/0/Video31.mp4  \n",
            "  inflating: TRAINING_SET/0/Video19.mp4  \n",
            "  inflating: TRAINING_SET/0/Video18.mp4  \n",
            "  inflating: TRAINING_SET/0/Video24.mp4  \n",
            "  inflating: TRAINING_SET/0/Video32.mp4  \n",
            "  inflating: TRAINING_SET/0/Video26.mp4  \n",
            "  inflating: TRAINING_SET/0/Video37.mp4  \n",
            "  inflating: TRAINING_SET/0/Video23.mp4  \n",
            "  inflating: TRAINING_SET/0/Video100.mp4  \n",
            "  inflating: TRAINING_SET/0/Video22.mp4  \n",
            "  inflating: TRAINING_SET/0/Video36.mp4  \n",
            "  inflating: TRAINING_SET/0/Video20.mp4  \n"
          ]
        }
      ],
      "source": [
        "download_google_file(\"https://drive.google.com/file/d/1tEz2wVQjPp1MjVHZLa-Z3uyVBnwljgGF/view?usp=sharing\", \"VIDEOS.zip\")\n",
        "!unzip VIDEOS.zip"
      ]
    },
    {
      "cell_type": "markdown",
      "metadata": {
        "id": "OfY44A3Jg09g"
      },
      "source": [
        "Riorganizza i file in modo da dividere video e annotazioni e chiamare le classi nel modo consueto, cioè 0 e 1"
      ]
    },
    {
      "cell_type": "code",
      "execution_count": 4,
      "metadata": {
        "colab": {
          "base_uri": "https://localhost:8080/"
        },
        "id": "39Avi9EMt1cD",
        "outputId": "802f9a43-c3a2-4b27-d687-0d8dbb332dad"
      },
      "outputs": [
        {
          "output_type": "stream",
          "name": "stderr",
          "text": [
            "Downloading...\n",
            "From: https://drive.google.com/uc?id=123AcAQCldRNE6iKpXuCaVtsaR3uHIOeN\n",
            "To: /content/GT.zip\n",
            "100%|██████████| 127k/127k [00:00<00:00, 57.9MB/s]"
          ]
        },
        {
          "output_type": "stream",
          "name": "stdout",
          "text": [
            "Archive:  GT.zip\n",
            "   creating: GT_TRAINING_SET_CL1/\n",
            "  inflating: GT_TRAINING_SET_CL1/Video204.rtf  \n",
            "  inflating: GT_TRAINING_SET_CL1/Video210.rtf  \n",
            "  inflating: GT_TRAINING_SET_CL1/Video53.rtf  \n",
            "  inflating: GT_TRAINING_SET_CL1/Video47.rtf  \n",
            "  inflating: GT_TRAINING_SET_CL1/Video90.rtf  \n",
            "  inflating: GT_TRAINING_SET_CL1/Video171.rtf  \n",
            "  inflating: GT_TRAINING_SET_CL1/Video91.rtf  \n",
            "  inflating: GT_TRAINING_SET_CL1/Video213.rtf  \n",
            "  inflating: GT_TRAINING_SET_CL1/Video165.rtf  \n",
            "  inflating: GT_TRAINING_SET_CL1/Video159.rtf  \n",
            "  inflating: GT_TRAINING_SET_CL1/Video46.rtf  \n",
            "  inflating: GT_TRAINING_SET_CL1/Video84.rtf  \n",
            "  inflating: GT_TRAINING_SET_CL1/Video85.rtf  \n",
            "  inflating: GT_TRAINING_SET_CL1/Video35.rtf  \n",
            "  inflating: GT_TRAINING_SET_CL1/Video133.rtf  \n",
            "  inflating: GT_TRAINING_SET_CL1/Video260.rtf  \n",
            "  inflating: GT_TRAINING_SET_CL1/Video21.rtf  \n",
            "  inflating: GT_TRAINING_SET_CL1/Video261.rtf  \n",
            "  inflating: GT_TRAINING_SET_CL1/Video103.rtf  \n",
            "  inflating: GT_TRAINING_SET_CL1/Video20.rtf  \n",
            "  inflating: GT_TRAINING_SET_CL1/Video22.rtf  \n",
            "  inflating: GT_TRAINING_SET_CL1/Video115.rtf  \n",
            "  inflating: GT_TRAINING_SET_CL1/Video101.rtf  \n",
            "  inflating: GT_TRAINING_SET_CL1/Video37.rtf  \n",
            "  inflating: GT_TRAINING_SET_CL1/Video129.rtf  \n",
            "  inflating: GT_TRAINING_SET_CL1/Video36.rtf  \n",
            "  inflating: GT_TRAINING_SET_CL1/Video23.rtf  \n",
            "  inflating: GT_TRAINING_SET_CL1/Video128.rtf  \n",
            "  inflating: GT_TRAINING_SET_CL1/Video100.rtf  \n",
            "  inflating: GT_TRAINING_SET_CL1/Video114.rtf  \n",
            "  inflating: GT_TRAINING_SET_CL1/Video32.rtf  \n",
            "  inflating: GT_TRAINING_SET_CL1/Video33.rtf  \n",
            "  inflating: GT_TRAINING_SET_CL1/Video134_1.rtf  \n",
            "  inflating: GT_TRAINING_SET_CL1/Video138.rtf  \n",
            "  inflating: GT_TRAINING_SET_CL1/Video110.rtf  \n",
            "  inflating: GT_TRAINING_SET_CL1/Video139.rtf  \n",
            "  inflating: GT_TRAINING_SET_CL1/Video27.rtf  \n",
            "  inflating: GT_TRAINING_SET_CL1/Video107.rtf  \n",
            "  inflating: GT_TRAINING_SET_CL1/Video30.rtf  \n",
            "  inflating: GT_TRAINING_SET_CL1/Video24.rtf  \n",
            "  inflating: GT_TRAINING_SET_CL1/Video105.rtf  \n",
            "  inflating: GT_TRAINING_SET_CL1/Video19.rtf  \n",
            "  inflating: GT_TRAINING_SET_CL1/Video31.rtf  \n",
            "  inflating: GT_TRAINING_SET_CL1/Video25.rtf  \n",
            "  inflating: GT_TRAINING_SET_CL1/Video113.rtf  \n",
            "  inflating: GT_TRAINING_SET_CL1/Video18.rtf  \n",
            "  inflating: GT_TRAINING_SET_CL1/Video258.rtf  \n",
            "  inflating: GT_TRAINING_SET_CL1/Video149.rtf  \n",
            "  inflating: GT_TRAINING_SET_CL1/Video175.rtf  \n",
            "  inflating: GT_TRAINING_SET_CL1/Video9.rtf  \n",
            "  inflating: GT_TRAINING_SET_CL1/Video217.rtf  \n",
            "  inflating: GT_TRAINING_SET_CL1/Video56.rtf  \n",
            "  inflating: GT_TRAINING_SET_CL1/Video203.rtf  \n",
            "  inflating: GT_TRAINING_SET_CL1/Video161.rtf  \n",
            "  inflating: GT_TRAINING_SET_CL1/Video95.rtf  \n",
            "  inflating: GT_TRAINING_SET_CL1/Video42.rtf  \n",
            "  inflating: GT_TRAINING_SET_CL1/Video43.rtf  \n",
            "  inflating: GT_TRAINING_SET_CL1/Video80.rtf  \n",
            "  inflating: GT_TRAINING_SET_CL1/Video8.rtf  \n",
            "  inflating: GT_TRAINING_SET_CL1/Video200.rtf  \n",
            "  inflating: GT_TRAINING_SET_CL1/Video97.rtf  \n",
            "  inflating: GT_TRAINING_SET_CL1/Video69.rtf  \n",
            "  inflating: GT_TRAINING_SET_CL1/Video82.rtf  \n",
            "  inflating: GT_TRAINING_SET_CL1/Video148.rtf  \n",
            "  inflating: GT_TRAINING_SET_CL1/Video189.rtf  \n",
            "  inflating: GT_TRAINING_SET_CL1/Video162.rtf  \n",
            "  inflating: GT_TRAINING_SET_CL1/Video202.rtf  \n",
            "  inflating: GT_TRAINING_SET_CL1/Video160.rtf  \n",
            "  inflating: GT_TRAINING_SET_CL1/Video83.rtf  \n",
            "  inflating: GT_TRAINING_SET_CL1/Video54.rtf  \n",
            "  inflating: GT_TRAINING_SET_CL1/Video40.rtf  \n",
            "  inflating: GT_TRAINING_SET_CL1/Video167.rtf  \n",
            "  inflating: GT_TRAINING_SET_CL1/Video173.rtf  \n",
            "  inflating: GT_TRAINING_SET_CL1/Video177.rtf  \n",
            "  inflating: GT_TRAINING_SET_CL1/Video229.rtf  \n",
            "  inflating: GT_TRAINING_SET_CL1/Video215.rtf  \n",
            "  inflating: GT_TRAINING_SET_CL1/Video163.rtf  \n",
            "  inflating: GT_TRAINING_SET_CL1/Video188.rtf  \n",
            "  inflating: GT_TRAINING_SET_CL1/Video68.rtf  \n",
            "  inflating: GT_TRAINING_SET_CL1/Video201.rtf  \n",
            "  inflating: GT_TRAINING_SET_CL1/Video211.rtf  \n",
            "  inflating: GT_TRAINING_SET_CL1/Video205.rtf  \n",
            "  inflating: GT_TRAINING_SET_CL1/Video78.rtf  \n",
            "  inflating: GT_TRAINING_SET_CL1/Video50.rtf  \n",
            "  inflating: GT_TRAINING_SET_CL1/Video92.rtf  \n",
            "  inflating: GT_TRAINING_SET_CL1/Video87.rtf  \n",
            "  inflating: GT_TRAINING_SET_CL1/Video44.rtf  \n",
            "  inflating: GT_TRAINING_SET_CL1/Video86.rtf  \n",
            "  inflating: GT_TRAINING_SET_CL1/Video93.rtf  \n",
            "  inflating: GT_TRAINING_SET_CL1/Video239.rtf  \n",
            "  inflating: GT_TRAINING_SET_CL1/Video45.rtf  \n",
            "  inflating: GT_TRAINING_SET_CL1/Video51.rtf  \n",
            "  inflating: GT_TRAINING_SET_CL1/Video238.rtf  \n",
            "  inflating: GT_TRAINING_SET_CL1/Video212.rtf  \n",
            "  inflating: GT_TRAINING_SET_CL1/Video164.rtf  \n",
            "  inflating: GT_TRAINING_SET_CL1/Video170.rtf  \n",
            "  inflating: GT_TRAINING_SET_CL1/Video172.rtf  \n",
            "  inflating: GT_TRAINING_SET_CL1/Video199.rtf  \n",
            "  inflating: GT_TRAINING_SET_CL1/Video158.rtf  \n",
            "  inflating: GT_TRAINING_SET_CL1/Video206.rtf  \n",
            "  inflating: GT_TRAINING_SET_CL1/Video223.rtf  \n",
            "  inflating: GT_TRAINING_SET_CL1/Video169.rtf  \n",
            "  inflating: GT_TRAINING_SET_CL1/Video182.rtf  \n",
            "  inflating: GT_TRAINING_SET_CL1/Video155.rtf  \n",
            "  inflating: GT_TRAINING_SET_CL1/Video157.rtf  \n",
            "  inflating: GT_TRAINING_SET_CL1/Video194.rtf  \n",
            "  inflating: GT_TRAINING_SET_CL1/Video143.rtf  \n",
            "  inflating: GT_TRAINING_SET_CL1/Video141.rtf  \n",
            "  inflating: GT_TRAINING_SET_CL1/Video235.rtf  \n",
            "  inflating: GT_TRAINING_SET_CL1/Video196.rtf  \n",
            "  inflating: GT_TRAINING_SET_CL1/Video209.rtf  \n",
            "  inflating: GT_TRAINING_SET_CL1/Video48.rtf  \n",
            "  inflating: GT_TRAINING_SET_CL1/Video3.rtf  \n",
            "  inflating: GT_TRAINING_SET_CL1/Video60.rtf  \n",
            "  inflating: GT_TRAINING_SET_CL1/Video74.rtf  \n",
            "  inflating: GT_TRAINING_SET_CL1/Video75_4.rtf  \n",
            "  inflating: GT_TRAINING_SET_CL1/Video234.rtf  \n",
            "  inflating: GT_TRAINING_SET_CL1/Video208.rtf  \n",
            "  inflating: GT_TRAINING_SET_CL1/Video61.rtf  \n",
            "  inflating: GT_TRAINING_SET_CL1/Video2.rtf  \n",
            "  inflating: GT_TRAINING_SET_CL1/Video49.rtf  \n",
            "  inflating: GT_TRAINING_SET_CL1/Video156.rtf  \n",
            "  inflating: GT_TRAINING_SET_CL1/Video185.rtf  \n",
            "  inflating: GT_TRAINING_SET_CL1/Video191.rtf  \n",
            "  inflating: GT_TRAINING_SET_CL1/Video195.rtf  \n",
            "  inflating: GT_TRAINING_SET_CL1/Video152.rtf  \n",
            "  inflating: GT_TRAINING_SET_CL1/Video6.rtf  \n",
            "  inflating: GT_TRAINING_SET_CL1/Video224.rtf  \n",
            "  inflating: GT_TRAINING_SET_CL1/Video218.rtf  \n",
            "  inflating: GT_TRAINING_SET_CL1/Video146.rtf  \n",
            "  inflating: GT_TRAINING_SET_CL1/Video230.rtf  \n",
            "  inflating: GT_TRAINING_SET_CL1/Video7.rtf  \n",
            "  inflating: GT_TRAINING_SET_CL1/Video64.rtf  \n",
            "  inflating: GT_TRAINING_SET_CL1/Video70.rtf  \n",
            "  inflating: GT_TRAINING_SET_CL1/Video71.rtf  \n",
            "  inflating: GT_TRAINING_SET_CL1/Video59.rtf  \n",
            "  inflating: GT_TRAINING_SET_CL1/Video231.rtf  \n",
            "  inflating: GT_TRAINING_SET_CL1/Video225.rtf  \n",
            "  inflating: GT_TRAINING_SET_CL1/Video75_1.rtf  \n",
            "  inflating: GT_TRAINING_SET_CL1/Video58.rtf  \n",
            "  inflating: GT_TRAINING_SET_CL1/Video219.rtf  \n",
            "  inflating: GT_TRAINING_SET_CL1/Video147.rtf  \n",
            "  inflating: GT_TRAINING_SET_CL1/Video192.rtf  \n",
            "  inflating: GT_TRAINING_SET_CL1/Video184.rtf  \n",
            "  inflating: GT_TRAINING_SET_CL1/Video186.rtf  \n",
            "  inflating: GT_TRAINING_SET_CL1/Video153.rtf  \n",
            "  inflating: GT_TRAINING_SET_CL1/Video190.rtf  \n",
            "  inflating: GT_TRAINING_SET_CL1/Video75_3.rtf  \n",
            "  inflating: GT_TRAINING_SET_CL1/Video179.rtf  \n",
            "  inflating: GT_TRAINING_SET_CL1/Video227.rtf  \n",
            "  inflating: GT_TRAINING_SET_CL1/Video145.rtf  \n",
            "  inflating: GT_TRAINING_SET_CL1/Video72.rtf  \n",
            "  inflating: GT_TRAINING_SET_CL1/Video5.rtf  \n",
            "  inflating: GT_TRAINING_SET_CL1/Video66.rtf  \n",
            "  inflating: GT_TRAINING_SET_CL1/Video99.rtf  \n",
            "  inflating: GT_TRAINING_SET_CL1/Video67.rtf  \n",
            "  inflating: GT_TRAINING_SET_CL1/Video98.rtf  \n",
            "  inflating: GT_TRAINING_SET_CL1/Video144.rtf  \n",
            "  inflating: GT_TRAINING_SET_CL1/Video75_2.rtf  \n",
            "  inflating: GT_TRAINING_SET_CL1/Video226.rtf  \n",
            "  inflating: GT_TRAINING_SET_CL1/Video4.rtf  \n",
            "  inflating: GT_TRAINING_SET_CL1/Video73.rtf  \n",
            "  inflating: GT_TRAINING_SET_CL1/Video232.rtf  \n",
            "  inflating: GT_TRAINING_SET_CL1/Video150.rtf  \n",
            "  inflating: GT_TRAINING_SET_CL1/Video187.rtf  \n",
            "  inflating: GT_TRAINING_SET_CL1/Video193.rtf  \n",
            "  inflating: GT_TRAINING_SET_CL1/Video137.rtf  \n",
            "  inflating: GT_TRAINING_SET_CL1/Video255.rtf  \n",
            "  inflating: GT_TRAINING_SET_CL1/Video29.rtf  \n",
            "  inflating: GT_TRAINING_SET_CL1/Video15.rtf  \n",
            "  inflating: GT_TRAINING_SET_CL1/Video14.rtf  \n",
            "  inflating: GT_TRAINING_SET_CL1/Video123.rtf  \n",
            "  inflating: GT_TRAINING_SET_CL1/Video28.rtf  \n",
            "  inflating: GT_TRAINING_SET_CL1/Video240.rtf  \n",
            "  inflating: GT_TRAINING_SET_CL1/Video122.rtf  \n",
            "  inflating: GT_TRAINING_SET_CL1/Video136.rtf  \n",
            "  inflating: GT_TRAINING_SET_CL1/Video254.rtf  \n",
            "  inflating: GT_TRAINING_SET_CL1/Video120.rtf  \n",
            "  inflating: GT_TRAINING_SET_CL1/Video108.rtf  \n",
            "  inflating: GT_TRAINING_SET_CL1/Video242.rtf  \n",
            "  inflating: GT_TRAINING_SET_CL1/Video17.rtf  \n",
            "  inflating: GT_TRAINING_SET_CL1/Video257.rtf  \n",
            "  inflating: GT_TRAINING_SET_CL1/Video256.rtf  \n",
            "  inflating: GT_TRAINING_SET_CL1/Video131.rtf  \n",
            "  inflating: GT_TRAINING_SET_CL1/Video253.rtf  \n",
            "  inflating: GT_TRAINING_SET_CL1/Video119.rtf  \n",
            "  inflating: GT_TRAINING_SET_CL1/Video135.rtf  \n",
            "  inflating: GT_TRAINING_SET_CL1/Video121.rtf  \n",
            "  inflating: GT_TRAINING_SET_CL1/Video109.rtf  \n",
            "  inflating: GT_TRAINING_SET_CL1/Video247.rtf  \n",
            "  inflating: GT_TRAINING_SET_CL1/Video118.rtf  \n",
            "  inflating: GT_TRAINING_SET_CL1/Video246.rtf  \n",
            "  inflating: GT_TRAINING_SET_CL1/Video252.rtf  \n",
            "  inflating: GT_TRAINING_SET_CL1/Video12.rtf  \n",
            "  inflating: GT_TRAINING_SET_CL1/Video124.rtf  \n",
            "  inflating: GT_TRAINING_SET_CL1/Video250.rtf  \n",
            "  inflating: GT_TRAINING_SET_CL1/Video132.rtf  \n",
            "  inflating: GT_TRAINING_SET_CL1/Video13.rtf  \n",
            "  inflating: GT_TRAINING_SET_CL1/Video130.rtf  \n",
            "  inflating: GT_TRAINING_SET_CL1/Video11.rtf  \n",
            "  inflating: GT_TRAINING_SET_CL1/Video39.rtf  \n",
            "  inflating: GT_TRAINING_SET_CL1/Video251.rtf  \n",
            "  inflating: GT_TRAINING_SET_CL1/Video245.rtf  \n",
            "  inflating: GT_TRAINING_SET_CL1/Video10.rtf  \n",
            "  inflating: GT_TRAINING_SET_CL1/Video38.rtf  \n",
            "  inflating: GT_TRAINING_SET_CL1/Video248.rtf  \n",
            "  inflating: GT_TRAINING_SET_CL1/Video102.rtf  \n",
            "  inflating: GT_TRAINING_SET_CL1/Video116.rtf  \n",
            "  inflating: GT_TRAINING_SET_CL1/Video76.rtf  \n",
            "  inflating: GT_TRAINING_SET_CL1/Video1.rtf  \n",
            "  inflating: GT_TRAINING_SET_CL1/Video62.rtf  \n",
            "  inflating: GT_TRAINING_SET_CL1/Video197.rtf  \n",
            "  inflating: GT_TRAINING_SET_CL1/Video140.rtf  \n",
            "  inflating: GT_TRAINING_SET_CL1/Video168.rtf  \n",
            "  inflating: GT_TRAINING_SET_CL1/Video154.rtf  \n",
            "  inflating: GT_TRAINING_SET_CL1/Video183.rtf  \n",
            "  inflating: GT_TRAINING_SET_CL1/Video237.rtf  \n",
            "  inflating: GT_TRAINING_SET_CL1/Video0.rtf  \n",
            "  inflating: GT_TRAINING_SET_CL1/desktop.ini  \n",
            "   creating: GT_TRAINING_SET_CL0/\n",
            "  inflating: GT_TRAINING_SET_CL0/Video81.rtf  \n",
            "  inflating: GT_TRAINING_SET_CL0/Video95.rtf  \n",
            "  inflating: GT_TRAINING_SET_CL0/Video80.rtf  \n",
            "  inflating: GT_TRAINING_SET_CL0/Video41.rtf  \n",
            "  inflating: GT_TRAINING_SET_CL0/Video57.rtf  \n",
            "  inflating: GT_TRAINING_SET_CL0/Video8.rtf  \n",
            "  inflating: GT_TRAINING_SET_CL0/Video69.rtf  \n",
            "  inflating: GT_TRAINING_SET_CL0/Video94.rtf  \n",
            "  inflating: GT_TRAINING_SET_CL0/Video43.rtf  \n",
            "  inflating: GT_TRAINING_SET_CL0/Video55.rtf  \n",
            "  inflating: GT_TRAINING_SET_CL0/Video96.rtf  \n",
            "  inflating: GT_TRAINING_SET_CL0/Video82.rtf  \n",
            "  inflating: GT_TRAINING_SET_CL0/Video97.rtf  \n",
            "  inflating: GT_TRAINING_SET_CL0/Video40.rtf  \n",
            "  inflating: GT_TRAINING_SET_CL0/Video93.rtf  \n",
            "  inflating: GT_TRAINING_SET_CL0/Video68.rtf  \n",
            "  inflating: GT_TRAINING_SET_CL0/Video87.rtf  \n",
            "  inflating: GT_TRAINING_SET_CL0/Video50.rtf  \n",
            "  inflating: GT_TRAINING_SET_CL0/Video78.rtf  \n",
            "  inflating: GT_TRAINING_SET_CL0/Video44.rtf  \n",
            "  inflating: GT_TRAINING_SET_CL0/Video83.rtf  \n",
            "  inflating: GT_TRAINING_SET_CL0/Video54.rtf  \n",
            "  inflating: GT_TRAINING_SET_CL0/Video86.rtf  \n",
            "  inflating: GT_TRAINING_SET_CL0/Video92.rtf  \n",
            "  inflating: GT_TRAINING_SET_CL0/Video79.rtf  \n",
            "  inflating: GT_TRAINING_SET_CL0/Video47.rtf  \n",
            "  inflating: GT_TRAINING_SET_CL0/Video90.rtf  \n",
            "  inflating: GT_TRAINING_SET_CL0/Video85.rtf  \n",
            "  inflating: GT_TRAINING_SET_CL0/Video53.rtf  \n",
            "  inflating: GT_TRAINING_SET_CL0/Video84.rtf  \n",
            "  inflating: GT_TRAINING_SET_CL0/Video91.rtf  \n",
            "  inflating: GT_TRAINING_SET_CL0/Video51.rtf  \n",
            "  inflating: GT_TRAINING_SET_CL0/Video45.rtf  \n",
            "  inflating: GT_TRAINING_SET_CL0/Video46.rtf  \n",
            "  inflating: GT_TRAINING_SET_CL0/Video52.rtf  \n",
            "  inflating: GT_TRAINING_SET_CL0/Video77.rtf  \n",
            "  inflating: GT_TRAINING_SET_CL0/Video63.rtf  \n",
            "  inflating: GT_TRAINING_SET_CL0/Video0.rtf  \n",
            "  inflating: GT_TRAINING_SET_CL0/Video88.rtf  \n",
            "  inflating: GT_TRAINING_SET_CL0/Video48.rtf  \n",
            "  inflating: GT_TRAINING_SET_CL0/Video60.rtf  \n",
            "  inflating: GT_TRAINING_SET_CL0/Video2.rtf  \n",
            "  inflating: GT_TRAINING_SET_CL0/Video74.rtf  \n",
            "  inflating: GT_TRAINING_SET_CL0/Video76.rtf  \n",
            "  inflating: GT_TRAINING_SET_CL0/Video3.rtf  \n",
            "  inflating: GT_TRAINING_SET_CL0/Video89.rtf  \n",
            "  inflating: GT_TRAINING_SET_CL0/Video62.rtf  \n",
            "  inflating: GT_TRAINING_SET_CL0/Video1.rtf  \n",
            "  inflating: GT_TRAINING_SET_CL0/Video61.rtf  \n",
            "  inflating: GT_TRAINING_SET_CL0/Video75.rtf  \n",
            "  inflating: GT_TRAINING_SET_CL0/Video49.rtf  \n",
            "  inflating: GT_TRAINING_SET_CL0/Video71.rtf  \n",
            "  inflating: GT_TRAINING_SET_CL0/Video5.rtf  \n",
            "  inflating: GT_TRAINING_SET_CL0/Video64.rtf  \n",
            "  inflating: GT_TRAINING_SET_CL0/Video70.rtf  \n",
            "  inflating: GT_TRAINING_SET_CL0/Video7.rtf  \n",
            "  inflating: GT_TRAINING_SET_CL0/Video59.rtf  \n",
            "  inflating: GT_TRAINING_SET_CL0/Video58.rtf  \n",
            "  inflating: GT_TRAINING_SET_CL0/Video65.rtf  \n",
            "  inflating: GT_TRAINING_SET_CL0/Video6.rtf  \n",
            "  inflating: GT_TRAINING_SET_CL0/Video72.rtf  \n",
            "  inflating: GT_TRAINING_SET_CL0/Video66.rtf  \n",
            "  inflating: GT_TRAINING_SET_CL0/Video99.rtf  \n",
            "  inflating: GT_TRAINING_SET_CL0/Video15.rtf  \n",
            "  inflating: GT_TRAINING_SET_CL0/Video98.rtf  \n",
            "  inflating: GT_TRAINING_SET_CL0/Video73.rtf  \n",
            "  inflating: GT_TRAINING_SET_CL0/Video67.rtf  \n",
            "  inflating: GT_TRAINING_SET_CL0/Video14.rtf  \n",
            "  inflating: GT_TRAINING_SET_CL0/Video28.rtf  \n",
            "  inflating: GT_TRAINING_SET_CL0/Video4.rtf  \n",
            "  inflating: GT_TRAINING_SET_CL0/Video16.rtf  \n",
            "  inflating: GT_TRAINING_SET_CL0/Video29.rtf  \n",
            "  inflating: GT_TRAINING_SET_CL0/Video17.rtf  \n",
            "  inflating: GT_TRAINING_SET_CL0/Video35.rtf  \n",
            "  inflating: GT_TRAINING_SET_CL0/Video10.rtf  \n",
            "  inflating: GT_TRAINING_SET_CL0/Video39.rtf  \n",
            "  inflating: GT_TRAINING_SET_CL0/Video21.rtf  \n",
            "  inflating: GT_TRAINING_SET_CL0/Video38.rtf  \n",
            "  inflating: GT_TRAINING_SET_CL0/Video102.rtf  \n",
            "  inflating: GT_TRAINING_SET_CL0/Video12.rtf  \n",
            "  inflating: GT_TRAINING_SET_CL0/Video13.rtf  \n",
            "  inflating: GT_TRAINING_SET_CL0/Video11.rtf  \n",
            "  inflating: GT_TRAINING_SET_CL0/Video34.rtf  \n",
            "  inflating: GT_TRAINING_SET_CL0/Video20.rtf  \n",
            "  inflating: GT_TRAINING_SET_CL0/Video103.rtf  \n",
            "  inflating: GT_TRAINING_SET_CL0/Video32.rtf  \n",
            "  inflating: GT_TRAINING_SET_CL0/Video36.rtf  \n",
            "  inflating: GT_TRAINING_SET_CL0/Video37.rtf  \n",
            "  inflating: GT_TRAINING_SET_CL0/Video100.rtf  \n",
            "  inflating: GT_TRAINING_SET_CL0/Video33.rtf  \n",
            "  inflating: GT_TRAINING_SET_CL0/Video23.rtf  \n",
            "  inflating: GT_TRAINING_SET_CL0/Video27.rtf  \n",
            "  inflating: GT_TRAINING_SET_CL0/Video101.rtf  \n",
            "  inflating: GT_TRAINING_SET_CL0/Video22.rtf  \n",
            "  inflating: GT_TRAINING_SET_CL0/Video26.rtf  \n",
            "  inflating: GT_TRAINING_SET_CL0/Video30.rtf  \n",
            "  inflating: GT_TRAINING_SET_CL0/Video19.rtf  \n",
            "  inflating: GT_TRAINING_SET_CL0/Video18.rtf  \n",
            "  inflating: GT_TRAINING_SET_CL0/Video31.rtf  \n",
            "  inflating: GT_TRAINING_SET_CL0/Video42.rtf  \n",
            "  inflating: GT_TRAINING_SET_CL0/Video56.rtf  \n",
            "  inflating: GT_TRAINING_SET_CL0/Video9.rtf  \n",
            "  inflating: GT_TRAINING_SET_CL0/Video25.rtf  \n",
            "  inflating: GT_TRAINING_SET_CL0/Video24.rtf  \n",
            "  inflating: GT_TRAINING_SET_CL0/desktop.ini  \n",
            "  inflating: GT_TRAINING_SET_CL1/Video180.rtf  \n"
          ]
        },
        {
          "output_type": "stream",
          "name": "stderr",
          "text": [
            "\n"
          ]
        }
      ],
      "source": [
        "download_google_file(\"https://drive.google.com/file/d/123AcAQCldRNE6iKpXuCaVtsaR3uHIOeN/view?usp=sharing\", \"GT.zip\")\n",
        "!unzip GT.zip\n",
        "!mkdir -p GT/TRAINING_SET\n",
        "!mv GT_TRAINING_SET_CL0 GT/TRAINING_SET/0\n",
        "!mv GT_TRAINING_SET_CL1 GT/TRAINING_SET/1"
      ]
    },
    {
      "cell_type": "markdown",
      "metadata": {
        "id": "zp4G3aq5hm3K"
      },
      "source": [
        "Ci viene dato un file di test in cui c'è un classificatore random (noi dobbiamo sostituirlo con il nostro)"
      ]
    },
    {
      "cell_type": "code",
      "execution_count": 5,
      "metadata": {
        "colab": {
          "base_uri": "https://localhost:8080/"
        },
        "id": "ygjJrXJYqjOn",
        "outputId": "ea7e6d54-8ed6-48fa-f7ea-7e9e15032234"
      },
      "outputs": [
        {
          "output_type": "stream",
          "name": "stderr",
          "text": [
            "Downloading...\n",
            "From: https://drive.google.com/uc?id=1rXMCtpus2i2UDdSBD9RwWAxnT0wrrXOk\n",
            "To: /content/test_code.zip\n",
            "100%|██████████| 26.1M/26.1M [00:00<00:00, 45.5MB/s]\n"
          ]
        },
        {
          "output_type": "stream",
          "name": "stdout",
          "text": [
            "Archive:  test_code.zip\n",
            "   creating: ONFIRE2023_Example_Code/\n",
            "  inflating: ONFIRE2023_Example_Code/test.py  \n",
            "  inflating: ONFIRE2023_Example_Code/test.ipynb  \n",
            "   creating: ONFIRE2023_Example_Code/foo_videos/\n",
            "  inflating: ONFIRE2023_Example_Code/foo_videos/Video2.mp4  \n",
            "  inflating: ONFIRE2023_Example_Code/foo_videos/Video0.mp4  \n",
            "  inflating: ONFIRE2023_Example_Code/foo_videos/Video1.mp4  \n",
            "  inflating: ONFIRE2023_Example_Code/foo_videos/Video103.mp4  \n",
            "   creating: ONFIRE2023_Example_Code/foo_results/\n"
          ]
        }
      ],
      "source": [
        "download_google_file(\"https://drive.google.com/file/d/1rXMCtpus2i2UDdSBD9RwWAxnT0wrrXOk/view?usp=sharing\", \"test_code.zip\")\n",
        "!unzip test_code.zip"
      ]
    },
    {
      "cell_type": "markdown",
      "metadata": {
        "id": "JT9JzXPm6WLl"
      },
      "source": [
        "#Extract frames from video files"
      ]
    },
    {
      "cell_type": "code",
      "execution_count": 6,
      "metadata": {
        "id": "CwSrdj6ivMHz"
      },
      "outputs": [],
      "source": [
        "videos_path = \"TRAINING_SET\"\n",
        "frames_path = \"FRAMES\""
      ]
    },
    {
      "cell_type": "code",
      "execution_count": 7,
      "metadata": {
        "colab": {
          "base_uri": "https://localhost:8080/"
        },
        "id": "1EjVzy0pEEzk",
        "outputId": "25646729-2619-4ce2-e0c3-77f2d9bde7f8"
      },
      "outputs": [
        {
          "output_type": "stream",
          "name": "stdout",
          "text": [
            "rm: cannot remove 'FRAMES/TRAINING_SET/': No such file or directory\n"
          ]
        }
      ],
      "source": [
        "!rm -R FRAMES/TRAINING_SET/"
      ]
    },
    {
      "cell_type": "markdown",
      "metadata": {
        "id": "FpJD2gh2GaX-"
      },
      "source": [
        "We use ffmpeg to faster the frame extraction\n",
        "\n",
        "---\n",
        "-> Estrarrà tutti i frame da ogni video e li metterà in una cartella frames (che non conterrà più video ma le immagini dei singoli frame). Ci sarà una cartella per ogni video (in jpeg) Questa operazione può impiegare circa 20 min.\n",
        "è importante lasciare i frame divisi in cartelle perché le immaigni di ogni video sono correlate fra loro. Dividendole non solo perderemmo informazioni (è più facile imparare per la rete se le immagini sono nel video), ma sopratutto se per caso i frame di uno stesso video finiscono sia in train che in validation stiamo avvantagiando la rete perché i dati del test set e train set sono correlate (anzi a volte i frame di uno stesso video sono indistinguibili) ottenendo quindi dati sulle performance che sono falsi.\n",
        "\n"
      ]
    },
    {
      "cell_type": "code",
      "execution_count": 8,
      "metadata": {
        "colab": {
          "base_uri": "https://localhost:8080/"
        },
        "id": "pSfjgF7SvE23",
        "outputId": "1aa38f77-1521-4829-8c45-d0b1cfe27155"
      },
      "outputs": [
        {
          "output_type": "stream",
          "name": "stdout",
          "text": [
            "['TRAINING_SET/0/Video19.mp4', 'TRAINING_SET/0/Video75.mp4', 'TRAINING_SET/0/Video8.mp4', 'TRAINING_SET/0/Video68.mp4', 'TRAINING_SET/0/Video56.mp4', 'TRAINING_SET/0/Video20.mp4', 'TRAINING_SET/0/Video67.mp4', 'TRAINING_SET/0/Video18.mp4', 'TRAINING_SET/0/Video96.mp4', 'TRAINING_SET/0/Video40.mp4', 'TRAINING_SET/0/Video45.mp4', 'TRAINING_SET/0/Video83.mp4', 'TRAINING_SET/0/Video10.mp4', 'TRAINING_SET/0/Video94.mp4', 'TRAINING_SET/0/Video44.mp4', 'TRAINING_SET/0/Video32.mp4', 'TRAINING_SET/0/Video6.mp4', 'TRAINING_SET/0/Video41.mp4', 'TRAINING_SET/0/Video77.mp4', 'TRAINING_SET/0/Video2.mp4', 'TRAINING_SET/0/Video24.mp4', 'TRAINING_SET/0/Video92.mp4', 'TRAINING_SET/0/Video46.mp4', 'TRAINING_SET/0/Video7.mp4', 'TRAINING_SET/0/Video3.mp4', 'TRAINING_SET/0/Video89.mp4', 'TRAINING_SET/0/Video49.mp4', 'TRAINING_SET/0/Video57.mp4', 'TRAINING_SET/0/Video99.mp4', 'TRAINING_SET/0/Video34.mp4', 'TRAINING_SET/0/Video54.mp4', 'TRAINING_SET/0/Video63.mp4', 'TRAINING_SET/0/Video21.mp4', 'TRAINING_SET/0/Video17.mp4', 'TRAINING_SET/0/Video72.mp4', 'TRAINING_SET/0/Video5.mp4', 'TRAINING_SET/0/Video37.mp4', 'TRAINING_SET/0/Video1.mp4', 'TRAINING_SET/0/Video103.mp4', 'TRAINING_SET/0/Video102.mp4', 'TRAINING_SET/0/Video65.mp4', 'TRAINING_SET/0/Video51.mp4', 'TRAINING_SET/0/Video59.mp4', 'TRAINING_SET/0/Video9.mp4', 'TRAINING_SET/0/Video4.mp4', 'TRAINING_SET/0/Video30.mp4', 'TRAINING_SET/0/Video29.mp4', 'TRAINING_SET/0/Video27.mp4', 'TRAINING_SET/0/Video58.mp4', 'TRAINING_SET/0/Video69.mp4', 'TRAINING_SET/0/Video66.mp4', 'TRAINING_SET/0/Video22.mp4', 'TRAINING_SET/0/Video52.mp4', 'TRAINING_SET/0/Video55.mp4', 'TRAINING_SET/0/Video74.mp4', 'TRAINING_SET/0/Video12.mp4', 'TRAINING_SET/0/Video31.mp4', 'TRAINING_SET/0/Video81.mp4', 'TRAINING_SET/0/Video39.mp4', 'TRAINING_SET/0/Video35.mp4', 'TRAINING_SET/0/Video80.mp4', 'TRAINING_SET/0/Video36.mp4', 'TRAINING_SET/0/Video64.mp4', 'TRAINING_SET/0/Video91.mp4', 'TRAINING_SET/0/Video79.mp4', 'TRAINING_SET/0/Video71.mp4', 'TRAINING_SET/0/Video95.mp4', 'TRAINING_SET/0/Video88.mp4', 'TRAINING_SET/0/Video53.mp4', 'TRAINING_SET/0/Video90.mp4', 'TRAINING_SET/0/Video11.mp4', 'TRAINING_SET/0/Video73.mp4', 'TRAINING_SET/0/Video60.mp4', 'TRAINING_SET/0/Video61.mp4', 'TRAINING_SET/0/Video0.mp4', 'TRAINING_SET/0/Video101.mp4', 'TRAINING_SET/0/Video70.mp4', 'TRAINING_SET/0/Video84.mp4', 'TRAINING_SET/0/Video98.mp4', 'TRAINING_SET/0/Video42.mp4', 'TRAINING_SET/0/Video47.mp4', 'TRAINING_SET/0/Video38.mp4', 'TRAINING_SET/0/Video100.mp4', 'TRAINING_SET/0/Video15.mp4', 'TRAINING_SET/0/Video76.mp4', 'TRAINING_SET/0/Video23.mp4', 'TRAINING_SET/0/Video62.mp4', 'TRAINING_SET/0/Video13.mp4', 'TRAINING_SET/0/Video26.mp4', 'TRAINING_SET/0/Video50.mp4', 'TRAINING_SET/0/Video93.mp4', 'TRAINING_SET/0/Video97.mp4', 'TRAINING_SET/0/Video14.mp4', 'TRAINING_SET/1/Video19.mp4', 'TRAINING_SET/1/Video252.mp4', 'TRAINING_SET/1/Video171.mp4', 'TRAINING_SET/1/Video227.mp4', 'TRAINING_SET/1/Video8.mp4', 'TRAINING_SET/1/Video183.mp4', 'TRAINING_SET/1/Video165.mp4', 'TRAINING_SET/1/Video179.mp4', 'TRAINING_SET/1/Video251.mp4', 'TRAINING_SET/1/Video261.mp4', 'TRAINING_SET/1/Video159.mp4', 'TRAINING_SET/1/Video68.mp4', 'TRAINING_SET/1/Video128.mp4', 'TRAINING_SET/1/Video246.mp4', 'TRAINING_SET/1/Video170.mp4', 'TRAINING_SET/1/Video56.mp4', 'TRAINING_SET/1/Video20.mp4', 'TRAINING_SET/1/Video75_2.mp4', 'TRAINING_SET/1/Video160.mp4', 'TRAINING_SET/1/Video118.mp4', 'TRAINING_SET/1/Video67.mp4', 'TRAINING_SET/1/Video116.mp4', 'TRAINING_SET/1/Video18.mp4', 'TRAINING_SET/1/Video107.mp4', 'TRAINING_SET/1/Video40.mp4', 'TRAINING_SET/1/Video256.mp4', 'TRAINING_SET/1/Video45.mp4', 'TRAINING_SET/1/Video83.mp4', 'TRAINING_SET/1/Video10.mp4', 'TRAINING_SET/1/Video44.mp4', 'TRAINING_SET/1/Video32.mp4', 'TRAINING_SET/1/Video6.mp4', 'TRAINING_SET/1/Video124.mp4', 'TRAINING_SET/1/Video154.mp4', 'TRAINING_SET/1/Video113.mp4', 'TRAINING_SET/1/Video2.mp4', 'TRAINING_SET/1/Video167.mp4', 'TRAINING_SET/1/Video162.mp4', 'TRAINING_SET/1/Video184.mp4', 'TRAINING_SET/1/Video235.mp4', 'TRAINING_SET/1/Video24.mp4', 'TRAINING_SET/1/Video177.mp4', 'TRAINING_SET/1/Video188.mp4', 'TRAINING_SET/1/Video131.mp4', 'TRAINING_SET/1/Video195.mp4', 'TRAINING_SET/1/Video92.mp4', 'TRAINING_SET/1/Video182.mp4', 'TRAINING_SET/1/Video130.mp4', 'TRAINING_SET/1/Video25.mp4', 'TRAINING_SET/1/Video46.mp4', 'TRAINING_SET/1/Video254.mp4', 'TRAINING_SET/1/Video7.mp4', 'TRAINING_SET/1/Video141.mp4', 'TRAINING_SET/1/Video120.mp4', 'TRAINING_SET/1/Video3.mp4', 'TRAINING_SET/1/Video248.mp4', 'TRAINING_SET/1/Video196.mp4', 'TRAINING_SET/1/Video85.mp4', 'TRAINING_SET/1/Video193.mp4', 'TRAINING_SET/1/Video49.mp4', 'TRAINING_SET/1/Video99.mp4', 'TRAINING_SET/1/Video140.mp4', 'TRAINING_SET/1/Video139.mp4', 'TRAINING_SET/1/Video54.mp4', 'TRAINING_SET/1/Video192.mp4', 'TRAINING_SET/1/Video173.mp4', 'TRAINING_SET/1/Video146.mp4', 'TRAINING_SET/1/Video114.mp4', 'TRAINING_SET/1/Video21.mp4', 'TRAINING_SET/1/Video17.mp4', 'TRAINING_SET/1/Video208.mp4', 'TRAINING_SET/1/Video242.mp4', 'TRAINING_SET/1/Video143.mp4', 'TRAINING_SET/1/Video197.mp4', 'TRAINING_SET/1/Video164.mp4', 'TRAINING_SET/1/Video245.mp4', 'TRAINING_SET/1/Video72.mp4', 'TRAINING_SET/1/Video204.mp4', 'TRAINING_SET/1/Video121.mp4', 'TRAINING_SET/1/Video138.mp4', 'TRAINING_SET/1/Video260.mp4', 'TRAINING_SET/1/Video238.mp4', 'TRAINING_SET/1/Video202.mp4', 'TRAINING_SET/1/Video43.mp4', 'TRAINING_SET/1/Video219.mp4', 'TRAINING_SET/1/Video132.mp4', 'TRAINING_SET/1/Video137.mp4', 'TRAINING_SET/1/Video150.mp4', 'TRAINING_SET/1/Video5.mp4', 'TRAINING_SET/1/Video229.mp4', 'TRAINING_SET/1/Video212.mp4', 'TRAINING_SET/1/Video258.mp4', 'TRAINING_SET/1/Video210.mp4', 'TRAINING_SET/1/Video217.mp4', 'TRAINING_SET/1/Video37.mp4', 'TRAINING_SET/1/Video87.mp4', 'TRAINING_SET/1/Video1.mp4', 'TRAINING_SET/1/Video105.mp4', 'TRAINING_SET/1/Video103.mp4', 'TRAINING_SET/1/Video175.mp4', 'TRAINING_SET/1/Video223.mp4', 'TRAINING_SET/1/Video102.mp4', 'TRAINING_SET/1/Video224.mp4', 'TRAINING_SET/1/Video168.mp4', 'TRAINING_SET/1/Video51.mp4', 'TRAINING_SET/1/Video59.mp4', 'TRAINING_SET/1/Video9.mp4', 'TRAINING_SET/1/Video136.mp4', 'TRAINING_SET/1/Video172.mp4', 'TRAINING_SET/1/Video203.mp4', 'TRAINING_SET/1/Video4.mp4', 'TRAINING_SET/1/Video237.mp4', 'TRAINING_SET/1/Video119.mp4', 'TRAINING_SET/1/Video30.mp4', 'TRAINING_SET/1/Video29.mp4', 'TRAINING_SET/1/Video27.mp4', 'TRAINING_SET/1/Video213.mp4', 'TRAINING_SET/1/Video75_4.mp4', 'TRAINING_SET/1/Video230.mp4', 'TRAINING_SET/1/Video239.mp4', 'TRAINING_SET/1/Video58.mp4', 'TRAINING_SET/1/Video255.mp4', 'TRAINING_SET/1/Video109.mp4', 'TRAINING_SET/1/Video199.mp4', 'TRAINING_SET/1/Video69.mp4', 'TRAINING_SET/1/Video201.mp4', 'TRAINING_SET/1/Video147.mp4', 'TRAINING_SET/1/Video66.mp4', 'TRAINING_SET/1/Video218.mp4', 'TRAINING_SET/1/Video257.mp4', 'TRAINING_SET/1/Video185.mp4', 'TRAINING_SET/1/Video186.mp4', 'TRAINING_SET/1/Video135.mp4', 'TRAINING_SET/1/Video22.mp4', 'TRAINING_SET/1/Video48.mp4', 'TRAINING_SET/1/Video133.mp4', 'TRAINING_SET/1/Video148.mp4', 'TRAINING_SET/1/Video209.mp4', 'TRAINING_SET/1/Video75_1.mp4', 'TRAINING_SET/1/Video234.mp4', 'TRAINING_SET/1/Video74.mp4', 'TRAINING_SET/1/Video161.mp4', 'TRAINING_SET/1/Video12.mp4', 'TRAINING_SET/1/Video225.mp4', 'TRAINING_SET/1/Video31.mp4', 'TRAINING_SET/1/Video211.mp4', 'TRAINING_SET/1/Video39.mp4', 'TRAINING_SET/1/Video35.mp4', 'TRAINING_SET/1/Video194.mp4', 'TRAINING_SET/1/Video80.mp4', 'TRAINING_SET/1/Video78.mp4', 'TRAINING_SET/1/Video152.mp4', 'TRAINING_SET/1/Video36.mp4', 'TRAINING_SET/1/Video82.mp4', 'TRAINING_SET/1/Video110.mp4', 'TRAINING_SET/1/Video64.mp4', 'TRAINING_SET/1/Video91.mp4', 'TRAINING_SET/1/Video71.mp4', 'TRAINING_SET/1/Video95.mp4', 'TRAINING_SET/1/Video149.mp4', 'TRAINING_SET/1/Video247.mp4', 'TRAINING_SET/1/Video53.mp4', 'TRAINING_SET/1/Video90.mp4', 'TRAINING_SET/1/Video11.mp4', 'TRAINING_SET/1/Video240.mp4', 'TRAINING_SET/1/Video73.mp4', 'TRAINING_SET/1/Video169.mp4', 'TRAINING_SET/1/Video163.mp4', 'TRAINING_SET/1/Video158.mp4', 'TRAINING_SET/1/Video75_3.mp4', 'TRAINING_SET/1/Video206.mp4', 'TRAINING_SET/1/Video60.mp4', 'TRAINING_SET/1/Video123.mp4', 'TRAINING_SET/1/Video134_1.mp4', 'TRAINING_SET/1/Video153.mp4', 'TRAINING_SET/1/Video232.mp4', 'TRAINING_SET/1/Video61.mp4', 'TRAINING_SET/1/Video157.mp4', 'TRAINING_SET/1/Video129.mp4', 'TRAINING_SET/1/Video0.mp4', 'TRAINING_SET/1/Video231.mp4', 'TRAINING_SET/1/Video187.mp4', 'TRAINING_SET/1/Video122.mp4', 'TRAINING_SET/1/Video226.mp4', 'TRAINING_SET/1/Video200.mp4', 'TRAINING_SET/1/Video191.mp4', 'TRAINING_SET/1/Video101.mp4', 'TRAINING_SET/1/Video33.mp4', 'TRAINING_SET/1/Video70.mp4', 'TRAINING_SET/1/Video84.mp4', 'TRAINING_SET/1/Video98.mp4', 'TRAINING_SET/1/Video155.mp4', 'TRAINING_SET/1/Video189.mp4', 'TRAINING_SET/1/Video42.mp4', 'TRAINING_SET/1/Video47.mp4', 'TRAINING_SET/1/Video38.mp4', 'TRAINING_SET/1/Video100.mp4', 'TRAINING_SET/1/Video15.mp4', 'TRAINING_SET/1/Video215.mp4', 'TRAINING_SET/1/Video76.mp4', 'TRAINING_SET/1/Video180.mp4', 'TRAINING_SET/1/Video253.mp4', 'TRAINING_SET/1/Video156.mp4', 'TRAINING_SET/1/Video145.mp4', 'TRAINING_SET/1/Video23.mp4', 'TRAINING_SET/1/Video62.mp4', 'TRAINING_SET/1/Video205.mp4', 'TRAINING_SET/1/Video13.mp4', 'TRAINING_SET/1/Video250.mp4', 'TRAINING_SET/1/Video50.mp4', 'TRAINING_SET/1/Video115.mp4', 'TRAINING_SET/1/Video86.mp4', 'TRAINING_SET/1/Video108.mp4', 'TRAINING_SET/1/Video144.mp4', 'TRAINING_SET/1/Video190.mp4', 'TRAINING_SET/1/Video28.mp4', 'TRAINING_SET/1/Video93.mp4', 'TRAINING_SET/1/Video97.mp4', 'TRAINING_SET/1/Video14.mp4']\n"
          ]
        },
        {
          "output_type": "stream",
          "name": "stderr",
          "text": [
            "100%|██████████| 312/312 [16:20<00:00,  3.14s/it]\n"
          ]
        }
      ],
      "source": [
        "import cv2, os, argparse, glob, PIL, tqdm\n",
        "\n",
        "def extract_frames(video):  # questa funzione non viene usata, useremo una funzione esterna no npython più veloce\n",
        "    # Process the video\n",
        "    ret = True\n",
        "    cap = cv2.VideoCapture(video)\n",
        "    f = 0\n",
        "    while ret:  # finchè ci sono frame nel video...\n",
        "        ret, img = cap.read()\n",
        "        if ret:  # se ci sono ancora frame\n",
        "            f += 1  # incrementiamo l'indice del frame\n",
        "            PIL.Image.fromarray(img).save(os.path.join(frames_path, video, \"{:05d}.jpg\".format(f)))  # salviamo il frame nel path giusto\n",
        "    cap.release()\n",
        "\n",
        "# For all the videos\n",
        "file_list = [path for path in glob.glob(os.path.join(videos_path,\"**\"), recursive=True)\n",
        "             if os.path.isfile(path)]\n",
        "print(file_list)\n",
        "\n",
        "    # salvataggio dei frame nelle cartelle\n",
        "for video in tqdm.tqdm(file_list):\n",
        "  if os.path.isdir(os.path.join(frames_path, video)):\n",
        "    continue\n",
        "\n",
        "  os.makedirs(os.path.join(frames_path, video))\n",
        "  #extract_frames(video)  -> questa funzione python è più lenta di ffpeg ma è la stessa cosa\n",
        "  os.system(\"ffmpeg -i {} -r 1/1 {}/{}/$Frame{}.jpg\".format(video, frames_path, video, \"%05d\"))   # richiamiamo ffpeg con l'OS\n"
      ]
    },
    {
      "cell_type": "markdown",
      "metadata": {
        "id": "PbT_K61aTcU1"
      },
      "source": []
    },
    {
      "cell_type": "markdown",
      "metadata": {
        "id": "I64WT_L7Teg7"
      },
      "source": [
        "# Utilizzo della rete\n",
        "In qeusti blocchi di codice vengono presi dei video, vengono estratti i frame e dati in ingresso alla rete per ottenere un risultato"
      ]
    },
    {
      "cell_type": "markdown",
      "metadata": {
        "id": "V45kvLQsYBml"
      },
      "source": [
        "Prima di utilizzare il modello dobbiamo conoscere la classe:"
      ]
    },
    {
      "cell_type": "code",
      "execution_count": 9,
      "metadata": {
        "id": "lih_L6cAEur5"
      },
      "outputs": [],
      "source": [
        "import torch\n",
        "from torch.nn import BCELoss, Sigmoid\n",
        "from torch import nn\n",
        "\n",
        "class FireClassifier(nn.Module):\n",
        "    def __init__(self):\n",
        "        super().__init__()\n",
        "\n",
        "        self.mobileNet = torch.hub.load('pytorch/vision:v0.10.0', 'mobilenet_v2', pretrained=True).cuda()\n",
        "        #self.dense1 = nn.Linear(in_features = 1000, out_features = 1, bias=True)\n",
        "        self.mobileNet.classifier._modules['1'] = nn.Linear(in_features = 1280, out_features = 1, bias=True)\n",
        "        self.sigmoid1 = Sigmoid().cuda()\n",
        "        ##\n",
        "        self.lstm = torch.nn.LSTM(input_size=1, hidden_size=64, num_layers=2)\n",
        "        self.dense2 = nn.Linear(in_features = 64, out_features = 1, bias=True)\n",
        "        self.sigmoid2 = Sigmoid()\n",
        "\n",
        "    def forward(self, x, verbose=False):\n",
        "        x = self.mobileNet(x)\n",
        "        #x = self.dense1(x)\n",
        "        x = self.sigmoid1(x)\n",
        "        x = x.squeeze(1)\n",
        "        #\n",
        "        # h0 = torch.zeros(2, 64).to(x.device)\n",
        "        # c0 = torch.zeros(2, 64).to(x.device)\n",
        "        # x, _ = self.lstm(x, (h0, c0))\n",
        "        # x = self.dense2(x)\n",
        "        # x = self.sigmoid2(x)\n",
        "        # x = x.squeeze(1)\n",
        "\n",
        "        return x\n"
      ]
    },
    {
      "cell_type": "markdown",
      "metadata": {
        "id": "IhbGFPZXY5OZ"
      },
      "source": [
        "Ora possiamo istanziare il modello"
      ]
    },
    {
      "cell_type": "code",
      "execution_count": null,
      "metadata": {
        "id": "Z3zMcefrTqXX"
      },
      "outputs": [],
      "source": [
        "# Creazione del modello\n",
        "\n",
        "import torch\n",
        "\n",
        "net = FireClassifier().cuda()  # Istanziamo una rete\n",
        "net.load_state_dict(torch.load(('fold_3_best_model.pth'))) # Caricamento dei pesi migliori\n",
        "net.eval()  # Settaggio del modello per l'evaluation (per l'utilizzo e non per l'allenamento)\n"
      ]
    },
    {
      "cell_type": "markdown",
      "metadata": {
        "id": "RCPcWYDnYrsn"
      },
      "source": [
        "# Preparazione dei dati\n",
        "Dati dei video in formato .mp4 vogliamo prepararli in modo da dargliun formato che possa essere dato in ingresso alla rete"
      ]
    },
    {
      "cell_type": "code",
      "execution_count": null,
      "metadata": {
        "id": "F7o_6bCBY3Rk"
      },
      "outputs": [],
      "source": [
        "# Viene creata una cartella che contenga i frames dei video dei test\n",
        "!mkdir test_frames"
      ]
    },
    {
      "cell_type": "code",
      "source": [
        "# Estrazione dei frames\n",
        "\n",
        "video = 'bedroom.mp4'\n",
        "frames_path = 'test_frames'\n",
        "\n",
        "os.makedirs(os.path.join(frames_path, video))  # Viene creata la cartella in cui estrarre i frames\n",
        "# os.system(\"ffmpeg -i {} -r 1/1 {}/{}/$Frame{}.jpg\".format(video, frames_path, video, \"%05d\"))   # richiamiamo ffpeg con l'OS\n",
        "os.system(\"ffmpeg -i {} -vf fps=3 {}/{}/$Frame{}.jpg\".format(video, frames_path, video, \"%05d\"))\n",
        "# ffmpeg -i input.mp4 -vf fps=3 output_%d.jpg\n"
      ],
      "metadata": {
        "colab": {
          "base_uri": "https://localhost:8080/"
        },
        "id": "JxgYOek7GDwg",
        "outputId": "93690103-4423-4e9a-9d53-f8382fac2b9e"
      },
      "execution_count": 14,
      "outputs": [
        {
          "output_type": "execute_result",
          "data": {
            "text/plain": [
              "0"
            ]
          },
          "metadata": {},
          "execution_count": 14
        }
      ]
    },
    {
      "cell_type": "code",
      "source": [
        "# Creazione di un piccolo oggetto dataset con tutte le immagini del video\n",
        "import cv2\n",
        "import albumentations\n",
        "\n",
        "frames_folder = os.path.join(frames_path, video)\n",
        "frame_files = os.listdir(frames_folder)\n",
        "\n",
        "for frame_file in frame_files:\n",
        "    frame_path = os.path.join(frames_folder, frame_file)\n",
        "    image = cv2.imread(frame_path)  # lista di frame\n",
        "    image = cv2.cvtColor(image, cv2.COLOR_BGR2RGB)\n",
        "\n",
        "    preprocessing = albumentations.Compose([\n",
        "        albumentations.Resize(height=224, width=224, always_apply=True), # resize\n",
        "        albumentations.Normalize(mean=[0.485, 0.456, 0.406],   # normalizzazione\n",
        "                                 std=[0.229, 0.224, 0.225],\n",
        "                                 max_pixel_value=255.,\n",
        "                                 always_apply=True),\n",
        "        ])\n",
        "\n",
        "    preprocessed = preprocessing(image=image)\n",
        "    preprocessed_image = preprocessed[\"image\"]\n",
        "\n",
        "    # Convert the preprocessed frame to a tensor\n",
        "    tensor = torch.from_numpy(preprocessed_image).permute(2, 0, 1).float()\n",
        "    tensor = tensor.unsqueeze(0).cuda()\n",
        "\n",
        "    # Pass the tensor through the network\n",
        "    with torch.no_grad():\n",
        "        output = net(tensor)\n",
        "    # print(output)\n",
        "    o = torch.where(output > .5, 1.0, 0.0)\n",
        "    print(o)\n"
      ],
      "metadata": {
        "id": "NwzQzD0bIF2o"
      },
      "execution_count": null,
      "outputs": []
    },
    {
      "cell_type": "markdown",
      "source": [
        "# Classe\n",
        "Una classe che contiene il modello allenato e ha un metodo capace di prendere un video in ingresso e di dare inputput 0/1 (se c'è il fuoco) e il secondo in cui trova il fuoco"
      ],
      "metadata": {
        "id": "Cp5Cttuzae0C"
      }
    },
    {
      "cell_type": "code",
      "source": [
        "import os\n",
        "import shutil\n",
        "\n",
        "class FireDetector:\n",
        "\n",
        "\n",
        "\n",
        "  def __init__(self, video_path):\n",
        "    self.VIDEOS_PATH = video_path\n",
        "    net = FireClassifier().cuda()  # Istanziamo una rete\n",
        "    net.load_state_dict(torch.load(('fold_3_best_model.pth'))) # Caricamento dei pesi migliori\n",
        "    net.eval()  # Settaggio del modello per l'evaluation (per l'utilizzo e non per l'allenamento)\n",
        "\n",
        "    if not os.path.exists(self.VIDEOS_PATH):\n",
        "      os.mkdir(self.VIDEOS_PATH)\n",
        "\n",
        "\n",
        "\n",
        "  def video_to_tensor(self, video):\n",
        "    frames_path = self.VIDEOS_PATH\n",
        "    # Estrazione dei frame\n",
        "    path = os.path.join(frames_path, video)\n",
        "    if not os.path.exists(path):\n",
        "      os.makedirs(path)  # Viene creata la cartella in cui estrarre i frames\n",
        "    else:\n",
        "      shutil.rmtree(path)\n",
        "      os.makedirs(path)\n",
        "    os.system(\"ffmpeg -i {} -r 1/1 {}/{}/$Frame{}.jpg\".format(video, frames_path, video, \"%05d\"))   # richiamiamo ffpeg con l'OS\n",
        "\n",
        "    # Lettura delle immagini\n",
        "    frames_folder = os.path.join(frames_path, video)\n",
        "    frame_files = os.listdir(frames_folder)\n",
        "    tensor_frames = []  # Lista di tensori di frame\n",
        "    for frame_file in frame_files:\n",
        "        frame_path = os.path.join(frames_folder, frame_file)\n",
        "        image = cv2.imread(frame_path)  # lista di frame\n",
        "        image = cv2.cvtColor(image, cv2.COLOR_BGR2RGB)\n",
        "        # Preprocessing di ogni immagine\n",
        "        preprocessing = albumentations.Compose([\n",
        "            albumentations.Resize(height=224, width=224, always_apply=True), # resize\n",
        "            albumentations.Normalize(mean=[0.485, 0.456, 0.406],   # normalizzazione\n",
        "                                    std=[0.229, 0.224, 0.225],\n",
        "                                    max_pixel_value=255.,\n",
        "                                    always_apply=True),\n",
        "            ])\n",
        "\n",
        "        preprocessed = preprocessing(image=image)\n",
        "        preprocessed_image = preprocessed[\"image\"]\n",
        "\n",
        "        # Conversione a tensore\n",
        "        tensor = torch.from_numpy(preprocessed_image).permute(2, 0, 1).float()\n",
        "        tensor = tensor.unsqueeze(0).cuda()\n",
        "        tensor_frames.append(tensor)\n",
        "\n",
        "    return tensor_frames\n",
        "\n",
        "\n",
        "  def fire_detection(self, video):\n",
        "    \"\"\"Funzione che prende iningresso un video e restituisce il frame in cui inizia il fuoco\"\"\"\n",
        "    frames = self.video_to_tensor(video)\n",
        "    results = torch.empty(0).cuda()  # Istanzia un tensore vuoto che contenga i risultati\n",
        "    for tensor in frames:\n",
        "      with torch.no_grad():\n",
        "        output = net(tensor)\n",
        "      o = torch.where(output > .5, 1, 0)\n",
        "      results = torch.cat((results, o))\n",
        "    return results\n"
      ],
      "metadata": {
        "id": "5LdUW1WeauFL"
      },
      "execution_count": null,
      "outputs": []
    },
    {
      "cell_type": "markdown",
      "source": [
        "Testiamo ora la classe appena scritta"
      ],
      "metadata": {
        "id": "-wEXGuvN4EMN"
      }
    },
    {
      "cell_type": "code",
      "source": [
        "# Test\n",
        "\n",
        "\n",
        "video = 'test_no_fuoco2.mp4'\n",
        "path = 'test_frames3'\n",
        "fd = FireDetector(path)  # Istanziamo un fire detector\n",
        "results = fd.fire_detection(video)\n",
        "print(results)"
      ],
      "metadata": {
        "id": "TKMHJgi54Gvd"
      },
      "execution_count": null,
      "outputs": []
    }
  ],
  "metadata": {
    "accelerator": "GPU",
    "colab": {
      "provenance": []
    },
    "kernelspec": {
      "display_name": "Python 3",
      "name": "python3"
    },
    "language_info": {
      "name": "python"
    }
  },
  "nbformat": 4,
  "nbformat_minor": 0
}