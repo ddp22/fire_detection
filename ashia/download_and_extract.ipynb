{
 "cells": [
  {
   "cell_type": "markdown",
   "metadata": {},
   "source": [
    "# Download ed estrazione dei frame\n",
    "In questo file si scaricano tutti i video del dataset e se ne estraggono i frame (1 frame al secondo)"
   ]
  },
  {
   "cell_type": "code",
   "execution_count": null,
   "metadata": {},
   "outputs": [],
   "source": [
    "import gdown\n",
    "def download_google_file(shader_url, output_name):\n",
    "  id_url = \"https://drive.google.com/uc?id=\" + shader_url.split(\"/\")[5]\n",
    "  gdown.download(id_url, output_name)"
   ]
  },
  {
   "cell_type": "code",
   "execution_count": null,
   "metadata": {},
   "outputs": [],
   "source": [
    "download_google_file(\"https://drive.google.com/file/d/1tEz2wVQjPp1MjVHZLa-Z3uyVBnwljgGF/view?usp=sharing\", \"VIDEOS.zip\")\n",
    "!unzip VIDEOS.zip"
   ]
  },
  {
   "cell_type": "code",
   "execution_count": null,
   "metadata": {},
   "outputs": [],
   "source": [
    "download_google_file(\"https://drive.google.com/file/d/123AcAQCldRNE6iKpXuCaVtsaR3uHIOeN/view?usp=sharing\", \"GT.zip\")\n",
    "!unzip GT.zip\n",
    "!mkdir -p GT/TRAINING_SET\n",
    "!mv GT_TRAINING_SET_CL0 GT/TRAINING_SET/0\n",
    "!mv GT_TRAINING_SET_CL1 GT/TRAINING_SET/1"
   ]
  },
  {
   "cell_type": "code",
   "execution_count": null,
   "metadata": {},
   "outputs": [],
   "source": [
    "download_google_file(\"https://drive.google.com/file/d/1rXMCtpus2i2UDdSBD9RwWAxnT0wrrXOk/view?usp=sharing\", \"test_code.zip\")\n",
    "!unzip test_code.zip"
   ]
  },
  {
   "cell_type": "code",
   "execution_count": null,
   "metadata": {},
   "outputs": [],
   "source": [
    "videos_path = \"TRAINING_SET\"\n",
    "frames_path = \"FRAMES\""
   ]
  },
  {
   "cell_type": "code",
   "execution_count": null,
   "metadata": {},
   "outputs": [],
   "source": [
    "!rm -R FRAMES/TRAINING_SET/"
   ]
  },
  {
   "cell_type": "code",
   "execution_count": null,
   "metadata": {},
   "outputs": [],
   "source": [
    "import cv2, os, argparse, glob, PIL, tqdm\n",
    "\n",
    "def extract_frames(video):  # questa funzione non viene usata, useremo una funzione esterna no npython più veloce\n",
    "    # Process the video\n",
    "    ret = True\n",
    "    cap = cv2.VideoCapture(video)\n",
    "    f = 0\n",
    "    while ret:  # finchè ci sono frame nel video...\n",
    "        ret, img = cap.read()\n",
    "        if ret:  # se ci sono ancora frame\n",
    "            f += 1  # incrementiamo l'indice del frame\n",
    "            PIL.Image.fromarray(img).save(os.path.join(frames_path, video, \"{:05d}.jpg\".format(f)))  # salviamo il frame nel path giusto\n",
    "    cap.release()\n",
    "\n",
    "# For all the videos\n",
    "file_list = [path for path in glob.glob(os.path.join(videos_path,\"**\"), recursive=True)\n",
    "             if os.path.isfile(path)]\n",
    "print(file_list)\n",
    "\n",
    "    # salvataggio dei frame nelle cartelle\n",
    "for video in tqdm.tqdm(file_list):\n",
    "  if os.path.isdir(os.path.join(frames_path, video)):\n",
    "    continue\n",
    "\n",
    "  os.makedirs(os.path.join(frames_path, video))\n",
    "  #extract_frames(video)  -> questa funzione python è più lenta di ffpeg ma è la stessa cosa\n",
    "  os.system(\"ffmpeg -i {} -r 1/1 {}/{}/$Frame{}.jpg\".format(video, frames_path, video, \"%05d\"))   # richiamiamo ffpeg con l'OS\n"
   ]
  }
 ],
 "metadata": {
  "language_info": {
   "name": "python"
  },
  "orig_nbformat": 4
 },
 "nbformat": 4,
 "nbformat_minor": 2
}
